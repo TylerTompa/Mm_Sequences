{
 "cells": [
  {
   "cell_type": "markdown",
   "metadata": {},
   "source": [
    "# This notebook defines <em>M&m</em> Sequences, and creates a function that can be used to apply the <em>M&m</em> Sequence Algorithm to any starting sequence.\n",
    "\n",
    "# Unless otherwise noted- Source: Schultz, Harris, and Shiﬂett, Ray M&m Sequences. The College Mathematics Journal 36.3 (2005): 191-98. Web.\n",
    "\n",
    "# 1. Billstein, Rick, Johnny W. Lott, and Libeskind Shlomo. A ProblemSolvingApproach to Mathematics for Elementary School Teachers. N.p.: GregTobin,2007. Print.\n",
    "\n",
    "<hr style=\"height:3px\">"
   ]
  },
  {
   "cell_type": "markdown",
   "metadata": {},
   "source": [
    "### A sequence is an ordered arrangement of numbers, figures, or objects.$^1$\n",
    "### Define $S_n$ as a sequence with $n$ terms. \n",
    "### Define $x_n$ as the $n^{th}$ term of the sequence $S_n$.\n",
    "<hr>\n",
    "\n",
    "For an example, let $S_3$ = 6, 78, 46.\n",
    "\n",
    "We want to progress to the next sequence $S_4$; that is, we want to add another term to this sequence.  We must follow a specific algorithm though; we want the that the median of $S_3$ is equal to the mean of $S_4$.\n",
    "\n",
    "Let then mean($S_n$) be the mean of $S_n$, and let median($S_n$) be the median of $S_n$.\n",
    "\n",
    "In this case, we want that median($S_3$) = mean($S_4$).\n",
    "\n",
    "We will recall that $S_3$ = 6, 78, 46.  To find the median of this sequence, we will first list each term in increasing order, and get 6, 46, 78.  From here we can see that median($S_3$) = 46.  Therefore we want that mean($S_4$) = 46.\n",
    "\n",
    "We know that the mean of a sequence of numbers is the sum of each number in the sequence, divided by the amount of numbers in said sequence.  Recall that $x_n$ is the $n^{th}$ term of the sequence.\n",
    "\n",
    "Hence we have that mean($S_4$) =  $ \\frac{6+78+46+x_4}{4}$ =  46.\n",
    "\n",
    "From here we can proceed to solve for the next term $x_4$:\n",
    "\n",
    "$\\frac{6+78+46+s_4}{4}$ =  46.\n",
    "\n",
    "$\\rightarrow \\frac{6+78+46+s_4}{4} \\times$ 4 =  46 $\\times$ 4<br>\n",
    "$\\rightarrow$ 6 + 78 + 46 + $s_4$ = 184<br>\n",
    "$\\rightarrow$ 6 + 78 + 46 + $s_4$ - (6 + 78 + 46) = 184 -(6 + 78 +46)<br>\n",
    "$\\rightarrow s_4$ = 54\n",
    "\n",
    "Therefore, $S_4$ = 6, 78, 46, 54.\n",
    "\n",
    "Recall that a sequence is an ordered arrangement; The sequence 6, 78, 46, 54 is not the same as the sequence 6, 46, 54, 78.  If we apply this same algorithm again, we will get that $S_5$ = 6, 78, 46, 54, 66.  If we continue to apply this algorithm we will see that:\n",
    "\n",
    "\n",
    "$S_{15}$ = 6, 78, 46, 54, 66, 74, 96, 108, 102, 110, 96, 100, 195, 213, 96<br>\n",
    "$S_{16}$ = 6, 78, 46, 54, 66, 74, 96, 108, 102, 110, 96, 100, 195, 213, 96, 96<br>\n",
    "$S_{17}$ = 6, 78, 46, 54, 66, 74, 96, 108, 102, 110, 96, 100, 195, 213, 96, 96, 96\n",
    "\n",
    "We have reached a point where continue to append the same number to our sequence.  We wonder if this is just a coincidence, and try the algorithm with a new sequence.\n",
    "\n",
    "$S_3$ = 13, 41, 53<br>\n",
    "$S_{13}$  = 13, 41, 53, 57, 71, 83, 67, 71, 102, 112, 89, 93, 71<br>\n",
    "$S_{14}$  = 13, 41, 53, 57, 71, 83, 67, 71, 102, 112, 89, 93, 71, 71<br>\n",
    "$S_{15}$  = 13, 41, 53, 57, 71, 83, 67, 71, 102, 112, 89, 93, 71, 71, 71\n",
    "\n",
    "Again, we continue to append the same number to our sequence.\n",
    "\n",
    "Given three real numbers then, $x_1$, $x_2$, $x_3$, define the recursive sequence $\\langle x_n \\rangle$ by the algorithm: $x_{n+1}$ is the number such that mean($S_{n+1}$) = median($S_n$).  We will call such a sequence an $M\\&m$ Sequence- or <em>Mean and Median</em> Sequence.\n",
    "\n",
    "A $M\\&m$ Sequence is <strong>stable</strong> if it eventually becomes constant, or if we can find a $k$ for which $x_n$ = $x_k$ for all $n \\geq k$.\n",
    "\n",
    "We will define $k$ as the <strong>length</strong> of the sequence, and $x_k$ as the <strong>stable value</strong>.\n",
    "\n",
    "If we return to our original sequence:\n",
    "\n",
    "$S_3$ =6, 78, 46<br>\n",
    "$S_{17}$ = $\\underbrace{6, 78, 46, 54, 66, 74, 96, 108, 102, 110, 96, 100, 195, 213, 96}_\\text{15 terms}$, 96, 96\n",
    "\n",
    "The <strong>stable value</strong> of this sequence is 96, and the first repeating 96 is the 15$^{th}$ term of the sequence; hence this sequence has a <strong>length</strong> of 15.  We should point out that $x_7$ = 96; however, $x_8$ =  108; hence the 96 at $x_7$ is irrelevant.  We are only concerned with repeating values once they become consecutive.\n",
    "\n",
    "If we look at our second sequence:\n",
    "\n",
    "$S_3$ = 13, 41, 53<br>\n",
    "$S_{15}$ = $\\underbrace{13, 41, 53, 57, 71, 83, 67, 71, 102, 112, 89, 93, 71}_\\text{13 terms}$, 71, 71\n",
    "\n",
    "$k$ = 13<br>\n",
    "$x_k$=71\n",
    "\n",
    "This brings us to the $M\\&m$ Conjecture: Every $M\\&m$ Sequence is stable.\n",
    "\n",
    "As of the time this notebook was written, this conjecture is yet to be proven.  No matter what sequence you begin with, it seems to always stabilize.  This is an ongoing problem in Mathematics, and in this notebook we create a function which will take a list of numbers, and apply the aforementioned algorithm until 3 consecutive values are appeneded to our list; we assume that the sequence has stabilized at this point."
   ]
  },
  {
   "cell_type": "code",
   "execution_count": 1,
   "metadata": {},
   "outputs": [],
   "source": [
    "import numpy as np"
   ]
  },
  {
   "cell_type": "markdown",
   "metadata": {},
   "source": [
    "### Here we define our \"helper functions\" which other functions will later call."
   ]
  },
  {
   "cell_type": "code",
   "execution_count": 2,
   "metadata": {},
   "outputs": [],
   "source": [
    "# # This function iterates over each term in the list, to find the sum of each number in the list.\n",
    "# # I just realized that I could have found the sum using numpy instead of making my own function.\n",
    "# def sum_of_terms(mm_sequence):\n",
    "#     sum_of_terms = 0\n",
    "    \n",
    "#     for term in mm_sequence:\n",
    "#         sum_of_terms += term\n",
    "        \n",
    "#     return sum_of_terms"
   ]
  },
  {
   "cell_type": "code",
   "execution_count": 3,
   "metadata": {},
   "outputs": [],
   "source": [
    "# # This version of the next_sequence function uses my own function- sum_of_terms to find the sum of the currect sequence.\n",
    "# def next_sequence(mm_sequence):\n",
    "#     median = np.median(mm_sequence)\n",
    "#     sum_of_next_sequence = np.median(sequence) * (len(sequence)+1)\n",
    "#     if (sum_of_next_sequence - sum_of_terms(mm_sequence)).is_integer():\n",
    "#         next_term = int(sum_of_next_sequence - sum_of_terms(mm_sequence))\n",
    "#     else:\n",
    "#         next_term = sum_of_next_sequence - sum_of_terms(mm_sequence)\n",
    "        \n",
    "        \n",
    "#     mm_sequence.append(next_term)\n",
    "    \n",
    "#     return mm_sequence"
   ]
  },
  {
   "cell_type": "code",
   "execution_count": 4,
   "metadata": {},
   "outputs": [],
   "source": [
    "# This version of the next_sequence function uses numpy to find the sum of the current sequence.\n",
    "\"\"\"\n",
    "Let median(S_n) be the median of the sequence with n terms therein,\n",
    "let mean(S_n) be the mean of the sequence with n terms therein,\n",
    "let sum(S_n) be the sum of the sequence with n terms therein.\n",
    "\n",
    "1.\n",
    "We start by finding the median of the current sequence: S_n, or median(S_n)\n",
    "We want the mean of the next sequence S_(n+1) to equal the median of the current sequence S_n,\n",
    "or mean(S_(n+1)) = median(S_n).\n",
    "\n",
    "Mathematically, let x_n be the nth term of the sequence S_n, and let y be the next term of the sequence.\n",
    "We want to find y.\n",
    "\n",
    "2. \n",
    "The mean of S_(n+1) is equal to: (x_1 + x_2 + x_3 + ... + x_n + y) / (n+1),\n",
    "or mean(S_(n+1)) = (x_1 + x_2 + x_3 + ... + x_n + y) / (n+1).\n",
    "\n",
    "Hence we want (x_1 + x_2 + x_3 + ... + x_n + y) / (n+1) = median(S_n),\n",
    "or mean(S_(n+1)) = median(S_n)\n",
    "\n",
    "We therefore multiply both sides of the previous equation by (n+1).\n",
    "This leaves us with:\n",
    "((x_1 + x_2 + x_3 + ... + x_n + y) / (n+1)) * (n+1) = median(S_n) * (n+1)\n",
    "(x_1 + x_2 + x_3 + ... + x_n + y) = median(S_n) * (n+1)\n",
    "\n",
    "3.\n",
    "To find the value of y, we simply subtract the sum of S_n from both sides of the previous equation:\n",
    "(x_1 + x_2 + x_3 + ... + x_n + y) = median(S_n) * (n+1)\n",
    "(x_1 + x_2 + x_3 + ... + x_n + y) - (x_1 + x_2 + x_3 + ... + x_n) = (median(S_n) * (n+1)) - (x_1 + x_2 + x_3 + ... + x_n)\n",
    "y = median(S_n) * (n+1) - (x_1 + x_2 + x_3 + ... + x_n)\n",
    "y = median(S_n) * (n+1) - sum(S_n)\n",
    "\"\"\"\n",
    "\n",
    "\n",
    "def next_sequence(mm_sequence):\n",
    "    # 1. Find the median of S_n\n",
    "    median = np.median(mm_sequence)\n",
    "    # 2. Set the sum of the next sequence equal to the median of the current sequence multiplied by the length of the next sequence,\n",
    "    # Or set sum(S_n+1) = median(S_n) * (n+1).\n",
    "    sum_of_next_sequence = np.median(mm_sequence) * (len(mm_sequence)+1)\n",
    "    # 3. Subtract the sum of the  current sequence from the sum of the next sequence,\n",
    "    # or subtract sum(S_n) from sum(S_(n+1))\n",
    "    # By using this process, the next term in our sequence may be a non-integer number.\n",
    "    # If our list includes integers as floats, such as 46.0, it can become overwheliming and difficult to read.\n",
    "    # We therefore use the .is_integer() method to check whether our next_term is an integer, and if so, we cast it as such.\n",
    "    if (sum_of_next_sequence - np.sum(mm_sequence)).is_integer():\n",
    "        next_term = int(sum_of_next_sequence - np.sum(mm_sequence))\n",
    "    else:\n",
    "        next_term = sum_of_next_sequence - np.sum(mm_sequence)\n",
    "        \n",
    "    # Add the next term to our sequence.\n",
    "    mm_sequence.append(next_term)\n",
    "    \n",
    "    return mm_sequence"
   ]
  },
  {
   "cell_type": "code",
   "execution_count": 5,
   "metadata": {},
   "outputs": [],
   "source": [
    "\"\"\"\n",
    "As of the time this notebook was written, the M&m conjecture is yet to be solved.\n",
    "We are unsure whether every sequence will indeed terminate.\n",
    "We define a function that will continue to calculate and append the next term of the sequence,\n",
    "until our sequence has three consecutive values.\n",
    "For now, we assume that if this condition is met, the sequence has terminated.\n",
    "\"\"\"\n",
    "\n",
    "def Mm_Sequence(sequence):\n",
    "    length_of_original_sequence = len(sequence)\n",
    "    \n",
    "    while((sequence[len(sequence)-1] != sequence[len(sequence)-2]) & (sequence[len(sequence)-2] != sequence[len(sequence)-3])):\n",
    "        sequence = next_sequence(sequence)\n",
    "        \n",
    "    print(f\"Original Sequence: {sequence[:length_of_original_sequence]} \\n\\nFinal Sequence: {sequence} \\n\\nLength = {len(sequence)-1} \\n\\nStable Value = {sequence[len(sequence)-1]}\")"
   ]
  },
  {
   "cell_type": "code",
   "execution_count": null,
   "metadata": {},
   "outputs": [
    {
     "name": "stdout",
     "output_type": "stream",
     "text": [
      "How many numbers would you like to start with: 3\n",
      "\n"
     ]
    }
   ],
   "source": [
    "# We allow the user to choose how many terms to begin the sequence with.\n",
    "\n",
    "confirmation = True\n",
    "\n",
    "while confirmation:\n",
    "    length_of_starting_sequence = int(input(\"How many numbers would you like to start with: \"))\n",
    "    print(\"\")\n",
    "    \n",
    "    user_input = input(f\"Are you sure you want to start with {length_of_starting_sequence} numbers?\\nPlease type out \\\"yes\\\" to confirm: \")\n",
    "    \n",
    "    if user_input.lower() == \"yes\":\n",
    "        confirmation = False\n",
    "        \n",
    "sequence = []\n",
    "\n",
    "while len(sequence) < length_of_starting_sequence:\n",
    "    try:\n",
    "        number_to_append = input(f\"{i+1}. Please enter an integer: \")\n",
    "        if int(number_to_append).is_integer():\n",
    "            sequence.append(int(number_to_append))\n",
    "            \n",
    "        elif float(number_to_append).is_float():\n",
    "            sequence.append(float(number_to_append))\n",
    "        \n",
    "    except:\n",
    "        print (\"Error: You gave an invalid input.  Please enter only numbers.\")\n",
    "        \n",
    "sequence"
   ]
  },
  {
   "cell_type": "code",
   "execution_count": 14,
   "metadata": {},
   "outputs": [
    {
     "name": "stdout",
     "output_type": "stream",
     "text": [
      "How many numbers would you like to start with: 3\n",
      "\n",
      "Are you sure you want to start with 3 numbers?\n",
      "Please type out \"yes\" to confirm: YEs\n",
      "1. Please enter an integer: 6\n",
      "2. Please enter an integer: hello\n",
      "Error: You gave an invalid input.  Please enter only numbers.\n",
      "1. Please enter an integer: 6\n",
      "2. Please enter an integer: 78\n",
      "3. Please enter an integer: 46\n"
     ]
    },
    {
     "data": {
      "text/plain": [
       "[6, 78, 46]"
      ]
     },
     "execution_count": 14,
     "metadata": {},
     "output_type": "execute_result"
    }
   ],
   "source": [
    "# We allow the user to choose how many terms to begin the sequence with.\n",
    "\n",
    "confirmation = True\n",
    "\n",
    "while confirmation:\n",
    "    length_of_starting_sequence = int(input(\"How many numbers would you like to start with: \"))\n",
    "    print(\"\")\n",
    "    \n",
    "    user_input = input(f\"Are you sure you want to start with {length_of_starting_sequence} numbers?\\nPlease type out \\\"yes\\\" to confirm: \")\n",
    "    \n",
    "    if user_input.lower() == \"yes\":\n",
    "        confirmation = False\n",
    "        \n",
    "confirmation = True\n",
    "while confirmation:\n",
    "    try:\n",
    "        sequence = [int(input(f\"{i+1}. Please enter an integer: \")) for i in range(length_of_starting_sequence)]\n",
    "        confirmation = False\n",
    "        \n",
    "    except:\n",
    "        print (\"Error: You gave an invalid input.  Please enter only numbers.\")\n",
    "        \n",
    "sequence"
   ]
  },
  {
   "cell_type": "code",
   "execution_count": 6,
   "metadata": {},
   "outputs": [
    {
     "name": "stdout",
     "output_type": "stream",
     "text": [
      "How many numbers would you like to start with: 4\n",
      "\n",
      "Are you sure you want to start with 4 numbers?\n",
      "Please type out yes to confirm: 1\n",
      "How many numbers would you like to start with: 2\n",
      "\n",
      "Are you sure you want to start with 2 numbers?\n",
      "Please type out yes to confirm: 6\n",
      "How many numbers would you like to start with: 9\n",
      "\n",
      "Are you sure you want to start with 9 numbers?\n",
      "Please type out yes to confirm: 5\n",
      "How many numbers would you like to start with: 4\n",
      "\n",
      "Are you sure you want to start with 4 numbers?\n",
      "Please type out yes to confirm: yes\n",
      "1. Please enter an integer: 1\n",
      "2. Please enter an integer: 2\n",
      "3. Please enter an integer: 5\n",
      "4. Please enter an integer: 9\n"
     ]
    },
    {
     "data": {
      "text/plain": [
       "[1, 2, 5, 9]"
      ]
     },
     "execution_count": 6,
     "metadata": {},
     "output_type": "execute_result"
    }
   ],
   "source": [
    "# We allow the user to choose how many terms to begin the sequence with.\n",
    "\n",
    "confirmation = True\n",
    "\n",
    "while confirmation:\n",
    "    length_of_starting_sequence = int(input(\"How many numbers would you like to start with: \"))\n",
    "    print(\"\")\n",
    "    \n",
    "    user_input = input(f\"Are you sure you want to start with {length_of_starting_sequence} numbers?\\nPlease type out yes to confirm: \")\n",
    "    \n",
    "    if user_input == \"yes\":\n",
    "        confirmation = False\n",
    "\n",
    "sequence = [int(input(f\"{i+1}. Please enter an integer: \")) for i in range(length_of_starting_sequence)]\n",
    "sequence"
   ]
  },
  {
   "cell_type": "code",
   "execution_count": 15,
   "metadata": {},
   "outputs": [
    {
     "name": "stdout",
     "output_type": "stream",
     "text": [
      "How many numbers would you like to start with: 3\n",
      "\n",
      "1. Please enter an integer: 2\n",
      "2. Please enter an integer: 74\n",
      "3. Please enter an integer: 42\n"
     ]
    },
    {
     "data": {
      "text/plain": [
       "[2, 74, 42]"
      ]
     },
     "execution_count": 15,
     "metadata": {},
     "output_type": "execute_result"
    }
   ],
   "source": [
    "# We allow the user to choose how many terms to begin the sequence with.\n",
    "length_of_starting_sequence = int(input(\"How many numbers would you like to start with: \"))\n",
    "print(\"\")\n",
    "sequence = [int(input(f\"{i+1}. Please enter an integer: \")) for i in range(length_of_starting_sequence)]\n",
    "sequence"
   ]
  },
  {
   "cell_type": "code",
   "execution_count": 7,
   "metadata": {},
   "outputs": [
    {
     "name": "stdout",
     "output_type": "stream",
     "text": [
      "Original Sequence: [1, 2, 5, 9] \n",
      "\n",
      "Final Sequence: [1, 2, 5, 9, 0.5, -5.5, -1.5, -2.5, -1.25, -1.75, -9.125, -10.875, -2.875, -3.125, -3.375, -3.625, -8.125, -8.875, -6.0625, -6.4375, -5.5, -5.75, -6, -6.25, -6.5, -6.75, -28.9375, -30.8125, -5.5, -5.5] \n",
      "\n",
      "Length = 29 \n",
      "\n",
      "Stable Value = -5.5\n"
     ]
    }
   ],
   "source": [
    "Mm_Sequence(sequence)"
   ]
  },
  {
   "cell_type": "code",
   "execution_count": null,
   "metadata": {},
   "outputs": [],
   "source": []
  }
 ],
 "metadata": {
  "kernelspec": {
   "display_name": "Python 3",
   "language": "python",
   "name": "python3"
  },
  "language_info": {
   "codemirror_mode": {
    "name": "ipython",
    "version": 3
   },
   "file_extension": ".py",
   "mimetype": "text/x-python",
   "name": "python",
   "nbconvert_exporter": "python",
   "pygments_lexer": "ipython3",
   "version": "3.6.5"
  }
 },
 "nbformat": 4,
 "nbformat_minor": 2
}
